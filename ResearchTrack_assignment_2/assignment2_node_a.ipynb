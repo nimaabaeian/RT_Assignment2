{
 "cells": [
  {
   "cell_type": "markdown",
   "id": "f22e1fbe",
   "metadata": {},
   "source": [
    "# Importing necessary libraries"
   ]
  },
  {
   "cell_type": "code",
   "execution_count": 1,
   "id": "a5743e31",
   "metadata": {},
   "outputs": [],
   "source": [
    "import rospy\n",
    "from geometry_msgs.msg import Point, Pose, Twist\n",
    "from nav_msgs.msg import Odometry\n",
    "import actionlib\n",
    "import actionlib.msg\n",
    "import actionlib_msgs.msg\n",
    "from actionlib_msgs.msg import GoalStatus\n",
    "import assignment_2_2023.msg\n",
    "from assignment_2_2023.msg import Vel\n",
    "\n",
    "\n",
    "import ipywidgets as widgets\n",
    "from ipywidgets import Button, Layout, ButtonStyle, GridBox, VBox, HBox \n",
    "from IPython.display import display \n",
    "from IPython.display import clear_output\n",
    "\n",
    "%matplotlib widget\n",
    "import numpy as np\n",
    "import matplotlib.pyplot as plt\n",
    "from matplotlib.animation import FuncAnimation\n",
    "from tf.transformations import quaternion_matrix\n",
    "\n",
    "#initialize the publisher to publish position and velocity\n",
    "pub = rospy.Publisher(\"/kinematics\" , Vel , queue_size = 1) \n",
    "\n",
    "have_goal = False\n",
    "\n",
    "Goals_given_x = []\n",
    "Goals_given_y = []\n",
    "\n",
    "Goals_cancelled_x = []\n",
    "Goals_cancelled_y = []\n",
    "\n",
    "current_x = 0\n",
    "current_y = 0\n",
    "\n",
    "x_data = []\n",
    "y_data = []\n"
   ]
  },
  {
   "cell_type": "markdown",
   "id": "59fc9238",
   "metadata": {},
   "source": [
    "# Define the callback function for the subscriber "
   ]
  },
  {
   "cell_type": "code",
   "execution_count": 2,
   "id": "1ac5af12",
   "metadata": {},
   "outputs": [],
   "source": [
    "def publish_kinematics(msg):\n",
    "    \n",
    "    global pub, current_x, current_y, x_data, y_data\n",
    "    \n",
    "    # get the position and velocity of the robot from Odometry\n",
    "    \n",
    "    linear_vel_now = msg.twist.twist.linear\n",
    "    angular_vel_now = msg.twist.twist.angular\n",
    "    \n",
    "    current_x = msg.pose.pose.position.x\n",
    "    current_y = msg.pose.pose.position.y\n",
    "    \n",
    "    x_data.append(msg.pose.pose.position.x)\n",
    "    y_data.append(msg.pose.pose.position.y)\n",
    "    \n",
    "    # create a new position and velocity message\n",
    "    pos_vel = Vel()\n",
    "    pos_vel.x = msg.pose.pose.position.x\n",
    "    pos_vel.y = msg.pose.pose.position.y\n",
    "    pos_vel.vel_x = linear_vel_now.x\n",
    "    pos_vel.vel_z = angular_vel_now.z\n",
    "    \n",
    "    #Publish the custom message\n",
    "    pub.publish(pos_vel)"
   ]
  },
  {
   "cell_type": "markdown",
   "id": "e1219511",
   "metadata": {},
   "source": [
    "# Define cancel button functionality\n"
   ]
  },
  {
   "cell_type": "code",
   "execution_count": 3,
   "id": "92774da1",
   "metadata": {},
   "outputs": [],
   "source": [
    "def on_cancel_button_clicked(b):\n",
    "    global have_goal, client, Goals_cancelled_x, Goals_cancelled_y, Goals_reached_no \n",
    "    \n",
    "   \n",
    "    \n",
    "    with output:\n",
    "        \n",
    "        if have_goal:\n",
    "            \n",
    "            \n",
    "                \n",
    "            Goals_cancelled_x.append(rospy.get_param('/des_pos_x'))\n",
    "            Goals_cancelled_y.append(rospy.get_param('/des_pos_y'))\n",
    "            \n",
    "                        \n",
    "            # Cancel the goal\n",
    "            have_goal = False\n",
    "            client.cancel_goal()\n",
    "            rospy.loginfo(\"The goal is cancelled successfully\")\n",
    "            print(\"Target cancelled\")\n",
    "                           \n",
    "            \n",
    "            \n",
    "        elif not have_goal:\n",
    "            \n",
    "            rospy.logwarn(\"There are no goals to be cancelled. First determine a goal!!!\")\n",
    "            \n",
    "             \n",
    "            "
   ]
  },
  {
   "cell_type": "markdown",
   "id": "c25b2c3f",
   "metadata": {},
   "source": [
    "# define change button functionality "
   ]
  },
  {
   "cell_type": "code",
   "execution_count": 4,
   "id": "9e174c95",
   "metadata": {},
   "outputs": [],
   "source": [
    "def on_change_button_clicked(b):\n",
    "    \n",
    "    global have_goal, goal_new, client, Goals_given_x, Goals_given_y\n",
    "    \n",
    "    \n",
    "    \n",
    "    with output:\n",
    "        \n",
    "        if have_goal:\n",
    "            \n",
    "            rospy.logwarn('You should first stop the current target')\n",
    "            \n",
    "            \n",
    "        else:\n",
    "            \n",
    "            \n",
    "            # get the value for x and y targets\n",
    "            \n",
    "            rospy.set_param('/des_pos_x' , c1_slider.value)\n",
    "            rospy.set_param('/des_pos_y' , c2_slider.value)\n",
    "            \n",
    "            x_target = c1_slider.value\n",
    "            y_target = c2_slider.value\n",
    "            \n",
    "            goal_new = assignment_2_2023.msg.PlanningGoal()\n",
    "            goal_new.target_pose.pose.position.x = x_target\n",
    "            goal_new.target_pose.pose.position.y = y_target\n",
    "            \n",
    "            \n",
    "            # saving goals in a list\n",
    "            Goals_given_x.append(x_target)\n",
    "            Goals_given_y.append(y_target)\n",
    "            \n",
    "            #\n",
    "            \n",
    "            client.send_goal(goal_new)\n",
    "            have_goal = True\n",
    "\n",
    "        \n",
    "            print(\"New target set: X =\",  goal_new.target_pose.pose.position.x, \"Y =\", goal_new.target_pose.pose.position.y)\n",
    "            \n",
    "             "
   ]
  },
  {
   "cell_type": "markdown",
   "id": "1095cd09",
   "metadata": {},
   "source": [
    "# define info button functionality "
   ]
  },
  {
   "cell_type": "code",
   "execution_count": 5,
   "id": "2b3406cf",
   "metadata": {},
   "outputs": [],
   "source": [
    "def on_Info_button_clicked(b):\n",
    "    \n",
    "    global Goals_given_x, Goals_given_y, Goals_cancelled_x, Goals_cancelled_y, current_x, current_y\n",
    "    \n",
    "    \n",
    "    \n",
    "    \n",
    "    with output:\n",
    "        \n",
    "        \n",
    "                \n",
    "        print ('current position is', 'X =', current_x, 'Y =', current_y)\n",
    "        \n",
    "        target_list = list(zip(Goals_given_x, Goals_given_y))\n",
    "        print('The goals are: \\n', target_list)\n",
    "        \n",
    "        cancel_list = list(zip(Goals_cancelled_x, Goals_cancelled_y))\n",
    "        print('The cancelled goals are:\\n', cancel_list)\n",
    "            \n",
    "             "
   ]
  },
  {
   "cell_type": "markdown",
   "id": "8e127981",
   "metadata": {},
   "source": [
    "# Path Visualizer "
   ]
  },
  {
   "cell_type": "code",
   "execution_count": 6,
   "id": "709732b3",
   "metadata": {},
   "outputs": [],
   "source": [
    "class Visualiser:\n",
    "    \n",
    "    def __init__(self):\n",
    "        self.fig, self.ax = plt.subplots()  \n",
    "        self.ln, = self.ax.plot([], [], 'ro', label='Robot Position')  # Target's Position Plot\n",
    "        self.goal_ln, = self.ax.plot([], [], 'bo', markersize=10, label='Robot Goal Position')  # Robot's Position Data Arrays\n",
    "        self.cancel_goal_ln, = self.ax.plot([], [], 'rx', markersize=10, label='Robot Cancelled Goal Position')  # Robot's Position Data Arrays\n",
    "        self.x_data, self.y_data = [], []\n",
    "        self.Goal_x, self.Goal_y = [], []\n",
    "        \n",
    "        \n",
    "        \n",
    "    def plot_init(self):\n",
    "        self.ax.set_title(\"Robot Position\", fontsize=15, fontweight='bold')  # Set Plot Axis Labels\n",
    "        self.ax.set_xlabel(\"X [m]\", fontsize=10, fontweight=\"bold\")\n",
    "        self.ax.set_ylabel(\"Y [m]\", fontsize=10, fontweight=\"bold\")\n",
    "        self.ax.set_xlim(-10, 10)\n",
    "        self.ax.set_ylim(-10, 10)\n",
    "        self.ax.grid(True)\n",
    "        self.ax.legend()\n",
    "        \n",
    "\n",
    "        return self.ln, self.goal_ln\n",
    "\n",
    "    def odom_callback(self, msg):\n",
    "        self.y_data.append(msg.pose.pose.position.y)\n",
    "        self.x_data.append(msg.pose.pose.position.x)\n",
    "        x_t = rospy.get_param('/des_pos_x')\n",
    "        y_t = rospy.get_param('/des_pos_y')\n",
    "        self.Goal_x.append(x_t)\n",
    "        self.Goal_y.append(y_t)\n",
    "        self.cancelled_x = np.array(Goals_cancelled_x)\n",
    "        self.cancelled_y = np.array(Goals_cancelled_y)\n",
    "        \n",
    "    def update_plot(self, frame):\n",
    "        self.ln.set_data(self.x_data, self.y_data)\n",
    "        self.goal_ln.set_data(self.Goal_x, self.Goal_y)\n",
    "        self.cancel_goal_ln.set_data(self.cancelled_x, self.cancelled_y)\n",
    "        \n",
    "        \n",
    "        return self.ln, self.goal_ln, self.cancel_goal_ln\n"
   ]
  },
  {
   "cell_type": "markdown",
   "id": "9377927a",
   "metadata": {},
   "source": [
    "# Reached Goal visualizer"
   ]
  },
  {
   "cell_type": "code",
   "execution_count": 7,
   "id": "7c13c8ed",
   "metadata": {},
   "outputs": [],
   "source": [
    "class Goal_Visualizer:\n",
    "    def __init__(self):\n",
    "        self.fig, self.ax = plt.subplots()\n",
    "        # Setting up the values\n",
    "        self.reached = 0\n",
    "        self.cancelled = 0\n",
    "        # Set Plot Title\n",
    "        self.ax.set_title(\"Reached & Cancelled Goals\", fontsize = 20, fontweight = \"bold\")\n",
    "        \n",
    "        self.ax.grid(axis = 'y', color = 'grey', linestyle = '-', alpha = 0.5)\n",
    "        # Set Plot Labels on x-axis\n",
    "        self.labels = ('Reached', 'Cancelled')\n",
    "        self.x_pos = np.arange(len(self.labels))\n",
    "        self.ax.set_xticks(self.x_pos)\n",
    "        self.ax.set_xticklabels(self.labels)\n",
    "        # Set Plot Axis Limits\n",
    "        self.ax.set_ylim([0, 10])\n",
    "        self.ax.set_yticks(np.arange(0, 11, 1))\n",
    "        self.bar_colors = ['blue', 'red']\n",
    "        self.bar_plot = self.ax.bar(self.x_pos, [self.reached, self.cancelled], align = 'center', color = self.bar_colors, width = 0.2)\n",
    "\n",
    "    def goal_callback(self, msg):\n",
    "        # Calculate the number of reached/cancel goals\n",
    "        if msg.status.status == 3:\n",
    "            self.reached += 1\n",
    "        elif msg.status.status == 2:\n",
    "            self.cancelled += 1 \n",
    "\n",
    "    def update_plot(self, frame):\n",
    "        \n",
    "        for i, bar in enumerate(self.bar_plot):\n",
    "            if i == 0:\n",
    "                bar.set_height(self.reached)\n",
    "            else:\n",
    "                bar.set_height(self.cancelled)\n",
    "            bar.set_color(self.bar_colors[i])\n",
    "            \n",
    "        return self.bar_plot"
   ]
  },
  {
   "cell_type": "code",
   "execution_count": null,
   "id": "20bdb134",
   "metadata": {},
   "outputs": [],
   "source": []
  },
  {
   "cell_type": "markdown",
   "id": "8c145dbb",
   "metadata": {},
   "source": [
    "# Initialize the node and subscriber to the odom topic "
   ]
  },
  {
   "cell_type": "code",
   "execution_count": 8,
   "id": "53f0d8cf",
   "metadata": {
    "scrolled": true
   },
   "outputs": [
    {
     "name": "stdout",
     "output_type": "stream",
     "text": [
      "[INFO] [1716035821.857657, 0.000000]: node a started successully\n",
      "[INFO] [1716035822.196620, 1225.874000]: Action successfully initialized.\n",
      "[INFO] [1716035822.236295, 1225.888000]: Current goal is: target_x = 0.000000, target_y = 1.000000\n"
     ]
    }
   ],
   "source": [
    "rospy.init_node('node_a_client')\n",
    "\n",
    "rospy.loginfo('node a started successully')\n",
    "\n",
    "\n",
    "# initialize action client \n",
    "client  = actionlib.SimpleActionClient('/reaching_goal', assignment_2_2023.msg.PlanningAction)\n",
    "\n",
    "client.wait_for_server()\n",
    "\n",
    "rospy.loginfo(\"Action successfully initialized.\")\n",
    "\n",
    "\n",
    "    \n",
    "#subscribe to odom topic and publish the obtained position and velocity on the custom message we created\n",
    "    \n",
    "rospy.Subscriber(\"/odom\", Odometry , publish_kinematics)\n",
    "    \n",
    "# Get the current target from the parameters in the launch file \n",
    "    \n",
    "# In this case it's 0 and 1\n",
    "    \n",
    "x_t = rospy.get_param('/des_pos_x')\n",
    "y_t = rospy.get_param('/des_pos_y')\n",
    "    \n",
    "rospy.loginfo(\"Current goal is: target_x = %f, target_y = %f\", x_t , y_t )\n",
    "    \n",
    "\n",
    "\n",
    "\n"
   ]
  },
  {
   "cell_type": "markdown",
   "id": "4a36e6f3",
   "metadata": {},
   "source": [
    "# defining target slider "
   ]
  },
  {
   "cell_type": "code",
   "execution_count": 9,
   "id": "61124874",
   "metadata": {},
   "outputs": [
    {
     "data": {
      "application/vnd.jupyter.widget-view+json": {
       "model_id": "cd6043cb7699417e8f650096f570af31",
       "version_major": 2,
       "version_minor": 0
      },
      "text/plain": [
       "HTML(value='\\n<h3 style=\"color: blue;\">Choose the target here:</h3>\\n')"
      ]
     },
     "metadata": {},
     "output_type": "display_data"
    },
    {
     "data": {
      "application/vnd.jupyter.widget-view+json": {
       "model_id": "c67bd2e032e1440fabf7e60e9af68307",
       "version_major": 2,
       "version_minor": 0
      },
      "text/plain": [
       "IntSlider(value=1, continuous_update=False, description='X_target', max=10, min=-10)"
      ]
     },
     "metadata": {},
     "output_type": "display_data"
    },
    {
     "data": {
      "application/vnd.jupyter.widget-view+json": {
       "model_id": "203888eba024439583dfb72bef840fec",
       "version_major": 2,
       "version_minor": 0
      },
      "text/plain": [
       "IntSlider(value=0, continuous_update=False, description='Y_target', max=10, min=-10)"
      ]
     },
     "metadata": {},
     "output_type": "display_data"
    }
   ],
   "source": [
    "# integer slider for x_target\n",
    "\n",
    "c1_slider = widgets.IntSlider(value = 1,\n",
    "                      min = -10 , \n",
    "                      max = 10,\n",
    "                      step = 1,\n",
    "                      description = 'X_target',\n",
    "                      disabled = False,\n",
    "                      continuous_update = False , \n",
    "                      orientation = 'horizontal',\n",
    "                      readout = True,\n",
    "                      readout_format = 'd')\n",
    "\n",
    "# integer slider for y_target\n",
    "\n",
    "c2_slider = widgets.IntSlider(value = 0,\n",
    "                      min = -10 , \n",
    "                      max = 10,\n",
    "                      step = 1,\n",
    "                      description = 'Y_target',\n",
    "                      disabled = False,\n",
    "                      continuous_update = False , \n",
    "                      orientation = 'horizontal',\n",
    "                      readout = True,\n",
    "                      readout_format = 'd')\n",
    "\n",
    "instructions_html1 = \"\"\"\n",
    "<h3 style=\"color: blue;\">Choose the target here:</h3>\n",
    "\"\"\"\n",
    "    \n",
    "# Create HTML widget with instructions\n",
    "instructions_widget1 = widgets.HTML(value=instructions_html1)\n",
    "\n",
    "\n",
    "display(instructions_widget1, c1_slider,c2_slider)"
   ]
  },
  {
   "cell_type": "markdown",
   "id": "ec1209fe",
   "metadata": {},
   "source": [
    "# Button and widget description "
   ]
  },
  {
   "cell_type": "code",
   "execution_count": 10,
   "id": "4f35440a",
   "metadata": {},
   "outputs": [
    {
     "data": {
      "application/vnd.jupyter.widget-view+json": {
       "model_id": "b3b98c2fe63e4da1b6496aaaaa857a9a",
       "version_major": 2,
       "version_minor": 0
      },
      "text/plain": [
       "HTML(value='\\n<h3 style=\"color: blue;\">Instructions:</h3>\\n<p style = \"font-size: 16px;\">1. Choose what you wa…"
      ]
     },
     "metadata": {},
     "output_type": "display_data"
    },
    {
     "data": {
      "application/vnd.jupyter.widget-view+json": {
       "model_id": "1a9e4459a7c4450a824b49bade3dd9db",
       "version_major": 2,
       "version_minor": 0
      },
      "text/plain": [
       "HTML(value='\\n<p style = \"font-size: 22px;\">What\\'s your choice now:</p>\\n')"
      ]
     },
     "metadata": {},
     "output_type": "display_data"
    },
    {
     "data": {
      "application/vnd.jupyter.widget-view+json": {
       "model_id": "a62fe747c52b4184b48bab498fb960d9",
       "version_major": 2,
       "version_minor": 0
      },
      "text/plain": [
       "VBox(children=(VBox(children=(HBox(children=(Button(description='General Info', layout=Layout(grid_area='b1', …"
      ]
     },
     "metadata": {},
     "output_type": "display_data"
    }
   ],
   "source": [
    "   \n",
    "instructions_html2 = \"\"\"\n",
    "<h3 style=\"color: blue;\">Instructions:</h3>\n",
    "<p style = \"font-size: 16px;\">1. Choose what you want to do next:</p>\n",
    "<p style = \"font-size: 16px;\">2. Choose Change to change the target.</p>\n",
    "<p style = \"font-size: 16px;\">3. Choose Change to change the target.(determine the target in the slider above the page before choosing Change)</p>\n",
    "<p style=\"color: red; font-family: 'Times New Roman', serif; font-size: 18px;\"> Note:  Keep in mind that you should cancel the movement before setting a new target or you will get a warning (Even if the target is reached, you need to push cancel button once before setting a new target.).</p>\n",
    "\"\"\"\n",
    "    \n",
    "# Create HTML widget with instructions\n",
    "instructions_widget2 = widgets.HTML(value=instructions_html2)\n",
    "    \n",
    "\n",
    "\n",
    "    \n",
    "# ask user if they want to cancel the goal or move towards a new goal\n",
    "instructions_html3 = \"\"\"\n",
    "<p style = \"font-size: 22px;\">What's your choice now:</p>\n",
    "\"\"\"\n",
    "    \n",
    "# Create HTML widget with instructions\n",
    "instructions_widget3= widgets.HTML(value=instructions_html3)\n",
    "    \n",
    "\n",
    "\n",
    "    \n",
    "# Choice maker \n",
    "    \n",
    "# from ipywidgets import Button, Layout, ButtonStyle, GridBox, VBox, HBox \n",
    "    \n",
    "b1 = Button(description='Change',\n",
    "            layout=Layout(width='auto', align=\"center\", grid_area='b1'),\n",
    "            style=ButtonStyle(button_color='green'))\n",
    "    \n",
    "b2 = Button(description='Cancel',\n",
    "            layout=Layout(width='auto', grid_area='b2'),\n",
    "            style=ButtonStyle(button_color='red'))\n",
    "\n",
    "b3 = Button(description='General Info',\n",
    "            layout=Layout(width='auto', align=\"center\", grid_area='b1'),\n",
    "            style=ButtonStyle(button_color='lightblue'))\n",
    "    \n",
    "output = widgets.Output()\n",
    "    \n",
    "b1.on_click(on_change_button_clicked)\n",
    "b2.on_click(on_cancel_button_clicked)\n",
    "b3.on_click(on_Info_button_clicked)\n",
    "    \n",
    "buttons_box = VBox([HBox([b3]),HBox([b1,b2])])\n",
    "output_box = VBox([buttons_box, output])\n",
    "display(instructions_widget2 , instructions_widget3 , output_box)"
   ]
  },
  {
   "cell_type": "markdown",
   "id": "9e35f401",
   "metadata": {},
   "source": [
    "# Online plot "
   ]
  },
  {
   "cell_type": "code",
   "execution_count": 11,
   "id": "0d907729",
   "metadata": {},
   "outputs": [
    {
     "data": {
      "application/vnd.jupyter.widget-view+json": {
       "model_id": "873827d7edbb445daab018433297506c",
       "version_major": 2,
       "version_minor": 0
      },
      "text/plain": [
       "Canvas(toolbar=Toolbar(toolitems=[('Home', 'Reset original view', 'home', 'home'), ('Back', 'Back to previous …"
      ]
     },
     "metadata": {},
     "output_type": "display_data"
    },
    {
     "data": {
      "application/vnd.jupyter.widget-view+json": {
       "model_id": "d24ca6e6c1aa4ffa8d247dc88b7281e8",
       "version_major": 2,
       "version_minor": 0
      },
      "text/plain": [
       "Canvas(toolbar=Toolbar(toolitems=[('Home', 'Reset original view', 'home', 'home'), ('Back', 'Back to previous …"
      ]
     },
     "metadata": {},
     "output_type": "display_data"
    }
   ],
   "source": [
    "vis = Visualiser()\n",
    "sub = rospy.Subscriber('/odom', Odometry, vis.odom_callback)\n",
    "ani = FuncAnimation(vis.fig, vis.update_plot, init_func=vis.plot_init)\n",
    "plt.show(block=True)\n",
    "\n",
    "\n",
    "visualize_goals = Goal_Visualizer()\n",
    "results = rospy.Subscriber('/reaching_goal/result', assignment_2_2023.msg.PlanningActionResult, visualize_goals.goal_callback)\n",
    "\n",
    "animation_goal = FuncAnimation(visualize_goals.fig, visualize_goals.update_plot, interval = 1000)\n",
    "plt.show(block = True)"
   ]
  }
 ],
 "metadata": {
  "kernelspec": {
   "display_name": "Python 3 (ipykernel)",
   "language": "python",
   "name": "python3"
  },
  "language_info": {
   "codemirror_mode": {
    "name": "ipython",
    "version": 3
   },
   "file_extension": ".py",
   "mimetype": "text/x-python",
   "name": "python",
   "nbconvert_exporter": "python",
   "pygments_lexer": "ipython3",
   "version": "3.8.5"
  },
  "toc": {
   "base_numbering": 1,
   "nav_menu": {},
   "number_sections": true,
   "sideBar": true,
   "skip_h1_title": false,
   "title_cell": "Table of Contents",
   "title_sidebar": "Contents",
   "toc_cell": false,
   "toc_position": {},
   "toc_section_display": true,
   "toc_window_display": false
  },
  "varInspector": {
   "cols": {
    "lenName": 16,
    "lenType": 16,
    "lenVar": 40
   },
   "kernels_config": {
    "python": {
     "delete_cmd_postfix": "",
     "delete_cmd_prefix": "del ",
     "library": "var_list.py",
     "varRefreshCmd": "print(var_dic_list())"
    },
    "r": {
     "delete_cmd_postfix": ") ",
     "delete_cmd_prefix": "rm(",
     "library": "var_list.r",
     "varRefreshCmd": "cat(var_dic_list()) "
    }
   },
   "types_to_exclude": [
    "module",
    "function",
    "builtin_function_or_method",
    "instance",
    "_Feature"
   ],
   "window_display": false
  }
 },
 "nbformat": 4,
 "nbformat_minor": 5
}
